{
  "nbformat": 4,
  "nbformat_minor": 0,
  "metadata": {
    "colab": {
      "provenance": [],
      "authorship_tag": "ABX9TyOsSmYGOmF6glK5m/ljcoZQ",
      "include_colab_link": true
    },
    "kernelspec": {
      "name": "python3",
      "display_name": "Python 3"
    },
    "language_info": {
      "name": "python"
    }
  },
  "cells": [
    {
      "cell_type": "markdown",
      "metadata": {
        "id": "view-in-github",
        "colab_type": "text"
      },
      "source": [
        "<a href=\"https://colab.research.google.com/github/rafijonathan/datamaining/blob/main/DicisionTree.ipynb\" target=\"_parent\"><img src=\"https://colab.research.google.com/assets/colab-badge.svg\" alt=\"Open In Colab\"/></a>"
      ]
    },
    {
      "cell_type": "code",
      "execution_count": 39,
      "metadata": {
        "id": "t_mKxs-6iWDO"
      },
      "outputs": [],
      "source": [
        "import numpy as np\n",
        "import pandas as pd\n",
        "from sklearn import tree"
      ]
    },
    {
      "cell_type": "code",
      "source": [
        "from google.colab import drive\n",
        "drive.mount('/content/drive')\n",
        "\n",
        "import sys\n",
        "sys.path.append('/content/drive/My Drive/Colab Notebooks')"
      ],
      "metadata": {
        "colab": {
          "base_uri": "https://localhost:8080/"
        },
        "id": "aqApoHovi0Tz",
        "outputId": "29408c7d-b0cd-460c-d17c-c49d5087a14d"
      },
      "execution_count": 40,
      "outputs": [
        {
          "output_type": "stream",
          "name": "stdout",
          "text": [
            "Drive already mounted at /content/drive; to attempt to forcibly remount, call drive.mount(\"/content/drive\", force_remount=True).\n"
          ]
        }
      ]
    },
    {
      "cell_type": "code",
      "source": [
        "import pandas as pd\n",
        "dataset = pd.read_csv('/content/drive/My Drive/Colab Notebooks/Dataset Pengangguran Indonesia Tingkat Pendidikan.csv', delimiter=',', header=0)"
      ],
      "metadata": {
        "id": "__3EVlmli9RL"
      },
      "execution_count": 41,
      "outputs": []
    },
    {
      "cell_type": "markdown",
      "source": [
        "Implementasi Python dengan Dataset CSV"
      ],
      "metadata": {
        "id": "LjKmHiiqj0aC"
      }
    },
    {
      "cell_type": "code",
      "source": [
        "dataset[\"Bulan\"] = pd.factorize(dataset.Bulan)[0]"
      ],
      "metadata": {
        "id": "XbTgQ3e3jAl6"
      },
      "execution_count": 42,
      "outputs": []
    },
    {
      "cell_type": "code",
      "source": [
        "dataset = dataset.drop(labels=\"Periode\", axis=1)"
      ],
      "metadata": {
        "id": "WnkkMehVjfva"
      },
      "execution_count": 43,
      "outputs": []
    },
    {
      "cell_type": "code",
      "source": [
        "dataset = dataset.to_numpy()"
      ],
      "metadata": {
        "id": "1Wd37HJJjjBJ"
      },
      "execution_count": 44,
      "outputs": []
    },
    {
      "cell_type": "code",
      "source": [
        "dataTraining = np.concatenate((dataset[0:40, :], dataset[50:90, :], dataset[40:50, :], dataset[90:100, :]), axis=0)"
      ],
      "metadata": {
        "id": "YFShQtjzrmNL"
      },
      "execution_count": 45,
      "outputs": []
    },
    {
      "cell_type": "code",
      "source": [
        "inputTraining = dataTraining[:,0:4]\n",
        "labelTraining = dataTraining[:,4]"
      ],
      "metadata": {
        "id": "c05xTHCDrt3S"
      },
      "execution_count": 48,
      "outputs": []
    },
    {
      "cell_type": "code",
      "source": [
        "model = tree.DecisionTreeClassifier()\n"
      ],
      "metadata": {
        "id": "doenEb1nsnuT"
      },
      "execution_count": 49,
      "outputs": []
    },
    {
      "cell_type": "code",
      "source": [
        "model = model.fit(inputTraining, labelTraining)"
      ],
      "metadata": {
        "id": "LSvxG1ZZsuJ7"
      },
      "execution_count": 50,
      "outputs": []
    },
    {
      "cell_type": "code",
      "source": [
        "hasilPrediksi = model.predict(inputTraining)\n",
        "print(\"label sebenernya  \", labelTraining)\n",
        "print(\"hasil prediksi: \", hasilPrediksi)"
      ],
      "metadata": {
        "colab": {
          "base_uri": "https://localhost:8080/"
        },
        "id": "TsI1oTpzs5yb",
        "outputId": "65f69465-fbc5-4f0a-c050-dcc4d30d28f0"
      },
      "execution_count": 53,
      "outputs": [
        {
          "output_type": "stream",
          "name": "stdout",
          "text": [
            "label sebenernya   [2860007 2730045 2643062 2264198 2166619 1973986 2054682 1770823 1657452\n",
            " 1661449 1834632 2138864 1736670 1714776 1821429 1689643 1693203 1566838\n",
            " 1650387 1373919 1313815 1294483 1281240 1274417 1265421 1142168 1235199\n",
            " 1137195 1251352 1621518 1515089 1604448 1460221 1500807 1500807]\n",
            "hasil prediksi:  [2860007 2730045 2643062 2264198 2166619 1973986 2054682 1770823 1657452\n",
            " 1661449 1834632 2138864 1736670 1714776 1821429 1689643 1693203 1566838\n",
            " 1650387 1373919 1313815 1294483 1281240 1274417 1265421 1142168 1235199\n",
            " 1137195 1251352 1621518 1515089 1604448 1460221 1500807 1500807]\n"
          ]
        }
      ]
    },
    {
      "cell_type": "code",
      "source": [
        "prediksibenar = (hasilPrediksi == labelTraining).sum()\n",
        "prediksisalah = (hasilPrediksi != labelTraining).sum()\n",
        "print(\"prediksi benar: \",prediksibenar, \"data\")\n",
        "print(\"prediksi salah: \",prediksisalah, \"data\")\n",
        "print(\"akurasi: \", prediksibenar/(prediksibenar+prediksisalah)* 100, \"%\")"
      ],
      "metadata": {
        "colab": {
          "base_uri": "https://localhost:8080/"
        },
        "id": "rcSudB_wtyjD",
        "outputId": "c27ff84e-1c32-4087-ef5c-d9c49abc3f37"
      },
      "execution_count": 57,
      "outputs": [
        {
          "output_type": "stream",
          "name": "stdout",
          "text": [
            "prediksi benar:  35 data\n",
            "prediksi salah:  0 data\n",
            "akurasi:  100.0 %\n"
          ]
        }
      ]
    }
  ]
}